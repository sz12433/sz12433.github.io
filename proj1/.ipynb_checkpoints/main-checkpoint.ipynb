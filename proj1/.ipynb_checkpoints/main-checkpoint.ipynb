{
 "cells": [
  {
   "cell_type": "code",
   "execution_count": 1,
   "id": "01bc1788",
   "metadata": {},
   "outputs": [
    {
     "ename": "ModuleNotFoundError",
     "evalue": "No module named 'numpy'",
     "output_type": "error",
     "traceback": [
      "\u001b[0;31m---------------------------------------------------------------------------\u001b[0m",
      "\u001b[0;31mModuleNotFoundError\u001b[0m                       Traceback (most recent call last)",
      "Cell \u001b[0;32mIn[1], line 6\u001b[0m\n\u001b[1;32m      1\u001b[0m \u001b[38;5;66;03m# CS180 (CS280A): Project 1 starter Python code\u001b[39;00m\n\u001b[1;32m      2\u001b[0m \n\u001b[1;32m      3\u001b[0m \u001b[38;5;66;03m# these are just some suggested libraries\u001b[39;00m\n\u001b[1;32m      4\u001b[0m \u001b[38;5;66;03m# instead of scikit-image you could use matplotlib and opencv to read, write, and display images\u001b[39;00m\n\u001b[0;32m----> 6\u001b[0m \u001b[38;5;28;01mimport\u001b[39;00m\u001b[38;5;250m \u001b[39m\u001b[38;5;21;01mnumpy\u001b[39;00m\u001b[38;5;250m \u001b[39m\u001b[38;5;28;01mas\u001b[39;00m\u001b[38;5;250m \u001b[39m\u001b[38;5;21;01mnp\u001b[39;00m\n\u001b[1;32m      7\u001b[0m \u001b[38;5;28;01mimport\u001b[39;00m\u001b[38;5;250m \u001b[39m\u001b[38;5;21;01mskimage\u001b[39;00m\u001b[38;5;250m \u001b[39m\u001b[38;5;28;01mas\u001b[39;00m\u001b[38;5;250m \u001b[39m\u001b[38;5;21;01msk\u001b[39;00m\n\u001b[1;32m      8\u001b[0m \u001b[38;5;28;01mimport\u001b[39;00m\u001b[38;5;250m \u001b[39m\u001b[38;5;21;01mskimage\u001b[39;00m\u001b[38;5;21;01m.\u001b[39;00m\u001b[38;5;21;01mio\u001b[39;00m\u001b[38;5;250m \u001b[39m\u001b[38;5;28;01mas\u001b[39;00m\u001b[38;5;250m \u001b[39m\u001b[38;5;21;01mskio\u001b[39;00m\n",
      "\u001b[0;31mModuleNotFoundError\u001b[0m: No module named 'numpy'"
     ]
    }
   ],
   "source": [
    "# CS180 (CS280A): Project 1 starter Python code\n",
    "\n",
    "# these are just some suggested libraries\n",
    "# instead of scikit-image you could use matplotlib and opencv to read, write, and display images\n",
    "\n",
    "import numpy as np\n",
    "import skimage as sk\n",
    "import skimage.io as skio\n",
    "\n",
    "# name of the input file\n",
    "imname = 'cathedral.jpg'\n",
    "\n",
    "# read in the image\n",
    "im = skio.imread(imname)\n",
    "\n",
    "# convert to double (might want to do this later on to save memory)    \n",
    "im = sk.img_as_float(im)\n",
    "    \n",
    "# compute the height of each part (just 1/3 of total)\n",
    "height = np.floor(im.shape[0] / 3.0).astype(np.int)\n",
    "\n",
    "# separate color channels\n",
    "b = im[:height]\n",
    "g = im[height: 2*height]\n",
    "r = im[2*height: 3*height]\n",
    "\n",
    "# align the images\n",
    "# functions that might be useful for aligning the images include:\n",
    "# np.roll, np.sum, sk.transform.rescale (for multiscale)\n",
    "\n",
    "### ag = align(g, b)\n",
    "### ar = align(r, b)\n",
    "# create a color image\n",
    "im_out = np.dstack([ar, ag, b])\n",
    "\n",
    "# save the image\n",
    "fname = '/out_path/out_fname.jpg'\n",
    "skio.imsave(fname, im_out)\n",
    "\n",
    "# display the image\n",
    "skio.imshow(im_out)\n",
    "skio.show()"
   ]
  }
 ],
 "metadata": {
  "kernelspec": {
   "display_name": "Python 3",
   "language": "python",
   "name": "python3"
  },
  "language_info": {
   "codemirror_mode": {
    "name": "ipython",
    "version": 3
   },
   "file_extension": ".py",
   "mimetype": "text/x-python",
   "name": "python",
   "nbconvert_exporter": "python",
   "pygments_lexer": "ipython3",
   "version": "3.10.6"
  }
 },
 "nbformat": 4,
 "nbformat_minor": 5
}
