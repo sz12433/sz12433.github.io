{
 "cells": [
  {
   "cell_type": "code",
   "execution_count": null,
   "id": "f5f69549",
   "metadata": {},
   "outputs": [],
   "source": [
    "# import numpy as np\n",
    "# import skimage as sk\n",
    "# import skimage.io as skio\n",
    "# print(\"imports successful!\")\n",
    "# print(f\"NumPy version: {np.__version__}\")\n",
    "# print(f\"Scikit-image version: {sk.__version__}\")"
   ]
  },
  {
   "cell_type": "code",
   "execution_count": null,
   "id": "01bc1788",
   "metadata": {},
   "outputs": [
    {
     "ename": "NameError",
     "evalue": "name 'ar' is not defined",
     "output_type": "error",
     "traceback": [
      "\u001b[31m---------------------------------------------------------------------------\u001b[39m",
      "\u001b[31mNameError\u001b[39m                                 Traceback (most recent call last)",
      "\u001b[36mCell\u001b[39m\u001b[36m \u001b[39m\u001b[32mIn[3]\u001b[39m\u001b[32m, line 34\u001b[39m\n\u001b[32m     25\u001b[39m r = im[\u001b[32m2\u001b[39m*height: \u001b[32m3\u001b[39m*height]\n\u001b[32m     27\u001b[39m \u001b[38;5;66;03m# align the images\u001b[39;00m\n\u001b[32m     28\u001b[39m \u001b[38;5;66;03m# functions that might be useful for aligning the images include:\u001b[39;00m\n\u001b[32m     29\u001b[39m \u001b[38;5;66;03m# np.roll, np.sum, sk.transform.rescale (for multiscale)\u001b[39;00m\n\u001b[32m   (...)\u001b[39m\u001b[32m     32\u001b[39m \u001b[38;5;66;03m### ar = align(r, b)\u001b[39;00m\n\u001b[32m     33\u001b[39m \u001b[38;5;66;03m# create a color image\u001b[39;00m\n\u001b[32m---> \u001b[39m\u001b[32m34\u001b[39m im_out = np.dstack([\u001b[43mar\u001b[49m, ag, b])\n\u001b[32m     36\u001b[39m \u001b[38;5;66;03m# save the image\u001b[39;00m\n\u001b[32m     37\u001b[39m fname = \u001b[33m'\u001b[39m\u001b[33m/output/out_fname.jpg\u001b[39m\u001b[33m'\u001b[39m\n",
      "\u001b[31mNameError\u001b[39m: name 'ar' is not defined"
     ]
    }
   ],
   "source": [
    "# CS180 (CS280A): Project 1 starter Python code\n",
    "\n",
    "# these are just some suggested libraries\n",
    "# instead of scikit-image you could use matplotlib and opencv to read, write, and display images\n",
    "\n",
    "import numpy as np\n",
    "import skimage as sk\n",
    "import skimage.io as skio\n",
    "\n",
    "# name of the input file\n",
    "imname = 'cs180 proj1 data/cathedral.jpg'\n",
    "\n",
    "# read in the image\n",
    "im = skio.imread(imname)\n",
    "\n",
    "# convert to double (might want to do this later on to save memory)    \n",
    "im = sk.img_as_float(im)\n",
    "    \n",
    "# compute the height of each part (just 1/3 of total)\n",
    "height = np.floor(im.shape[0] / 3.0).astype(int)\n",
    "\n",
    "# separate color channels\n",
    "b = im[:height]\n",
    "g = im[height: 2*height]\n",
    "r = im[2*height: 3*height]"
   ]
  },
  {
   "cell_type": "code",
   "execution_count": null,
   "id": "8b6d090f",
   "metadata": {},
   "outputs": [],
   "source": [
    "# align the images\n",
    "# functions that might be useful for aligning the images include:\n",
    "# np.roll, np.sum, sk.transform.rescale (for multiscale)\n",
    "\n",
    "ag = align(g, b)\n",
    "ar = align(r, b)\n",
    "# create a color image\n",
    "im_out = np.dstack([ar, ag, b])\n",
    "\n",
    "# save the image\n",
    "fname = '/output/out_fname.jpg'\n",
    "skio.imsave(fname, im_out)\n",
    "\n",
    "# display the image\n",
    "skio.imshow(im_out)\n",
    "skio.show()"
   ]
  }
 ],
 "metadata": {
  "kernelspec": {
   "display_name": ".venv",
   "language": "python",
   "name": "python3"
  },
  "language_info": {
   "codemirror_mode": {
    "name": "ipython",
    "version": 3
   },
   "file_extension": ".py",
   "mimetype": "text/x-python",
   "name": "python",
   "nbconvert_exporter": "python",
   "pygments_lexer": "ipython3",
   "version": "3.12.6"
  }
 },
 "nbformat": 4,
 "nbformat_minor": 5
}
